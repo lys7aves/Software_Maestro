{
 "cells": [
  {
   "cell_type": "code",
   "execution_count": 31,
   "id": "94ad3eeb",
   "metadata": {},
   "outputs": [],
   "source": [
    "import pandas as pd\n",
    "import numpy as np\n",
    "import random\n",
    "import tensorflow as tf\n",
    "from tensorflow import keras\n",
    "import matplotlib.pyplot as plt\n",
    "%matplotlib inline"
   ]
  },
  {
   "cell_type": "markdown",
   "id": "837459ad",
   "metadata": {},
   "source": [
    "# Load Data"
   ]
  },
  {
   "cell_type": "code",
   "execution_count": 2,
   "id": "b66a31db",
   "metadata": {},
   "outputs": [],
   "source": [
    "def loadData(fileName, path='../data/'):\n",
    "    xlsx = pd.read_excel(path+fileName)\n",
    "    \n",
    "    return xlsx"
   ]
  },
  {
   "cell_type": "code",
   "execution_count": 10,
   "id": "97d54de6",
   "metadata": {},
   "outputs": [],
   "source": [
    "xlsx = loadData('pccstorgb.xlsx')"
   ]
  },
  {
   "cell_type": "code",
   "execution_count": 11,
   "id": "cea46c7f",
   "metadata": {},
   "outputs": [
    {
     "name": "stdout",
     "output_type": "stream",
     "text": [
      "     R    G    B    H     S     V           tone\n",
      "0  189  162  162  0.0  14.3  74.1  light_grayish\n",
      "1  111   88   88  0.0  20.7  43.5        Grayish\n",
      "2  233  184  184  0.0  21.0  91.4           Pale\n",
      "3   61   47   47  0.0  23.0  23.9   dark_grayish\n",
      "4  158   83   83  0.0  47.4  62.0           dull\n",
      "\n",
      "        R    G    B    H    S    V        tone\n",
      "1692  252  252  252  0.0  0.0  0.0  Achromatic\n",
      "1693  253  253  253  0.0  0.0  0.0  Achromatic\n",
      "1694  254  254  254  0.0  0.0  0.0  Achromatic\n",
      "1695  255  255  255  0.0  0.0  0.0  Achromatic\n",
      "1696  256  256  256  0.0  0.0  0.0  Achromatic\n",
      "\n",
      "(1697, 7)\n"
     ]
    }
   ],
   "source": [
    "print(xlsx.head())\n",
    "print()\n",
    "print(xlsx.tail())\n",
    "print()\n",
    "print(xlsx.shape)"
   ]
  },
  {
   "cell_type": "code",
   "execution_count": 5,
   "id": "c0004e23",
   "metadata": {},
   "outputs": [
    {
     "name": "stdout",
     "output_type": "stream",
     "text": [
      "<class 'pandas.core.frame.DataFrame'>\n"
     ]
    }
   ],
   "source": [
    "print(type(xlsx))"
   ]
  },
  {
   "cell_type": "code",
   "execution_count": null,
   "id": "77ed1586",
   "metadata": {},
   "outputs": [],
   "source": []
  },
  {
   "cell_type": "markdown",
   "id": "9ac59b10",
   "metadata": {},
   "source": [
    "# Data Cleaning"
   ]
  },
  {
   "cell_type": "code",
   "execution_count": 12,
   "id": "4dde127e",
   "metadata": {},
   "outputs": [],
   "source": [
    "def dataCleaning(xlsx):\n",
    "    rgb = xlsx[{'R', 'G', 'B'}].to_numpy()\n",
    "    hsv = xlsx[{'H', 'S', 'V'}].to_numpy()\n",
    "    rgbhsv = xlsx[{'R', 'G', 'B', 'H', 'S', 'V'}].to_numpy()\n",
    "    tone = xlsx['tone'].to_numpy()\n",
    "\n",
    "    #toneType = np.unique(tone)\n",
    "    toneType = np.array(['Vivid', 'bright', 'strong', 'deep', 'Light', 'Soft', 'dull', 'Dark', 'Pale', 'light_grayish', 'Grayish', 'dark_grayish', 'Achromatic'])\n",
    "\n",
    "    y = [np.where(toneType == t)[0][0] for t in tone]\n",
    "\n",
    "    return rgb, hsv, rgbhsv, tone, toneType, y"
   ]
  },
  {
   "cell_type": "code",
   "execution_count": 7,
   "id": "82203760",
   "metadata": {},
   "outputs": [],
   "source": [
    "[rgb, hsv, rgbhsv, tone, toneType, y] = dataCleaning(xlsx)"
   ]
  },
  {
   "cell_type": "code",
   "execution_count": 8,
   "id": "4f5cb916",
   "metadata": {},
   "outputs": [
    {
     "name": "stdout",
     "output_type": "stream",
     "text": [
      "[[162 162 189]\n",
      " [ 88  88 111]\n",
      " [184 184 233]\n",
      " [ 47  47  61]\n",
      " [ 83  83 158]]\n",
      "[[74.1 14.3  0. ]\n",
      " [43.5 20.7  0. ]\n",
      " [91.4 21.   0. ]\n",
      " [23.9 23.   0. ]\n",
      " [62.  47.4  0. ]]\n",
      "[[189.   74.1 162.  162.    0.   14.3]\n",
      " [111.   43.5  88.   88.    0.   20.7]\n",
      " [233.   91.4 184.  184.    0.   21. ]\n",
      " [ 61.   23.9  47.   47.    0.   23. ]\n",
      " [158.   62.   83.   83.    0.   47.4]]\n",
      "['light_grayish' 'Grayish' 'Pale' 'dark_grayish' 'dull']\n",
      "['Vivid' 'bright' 'strong' 'deep' 'Light' 'Soft' 'dull' 'Dark' 'Pale'\n",
      " 'light_grayish' 'Grayish' 'dark_grayish']\n",
      "[9, 10, 8, 11, 6]\n"
     ]
    }
   ],
   "source": [
    "print(rgb[:5])\n",
    "print(hsv[:5])\n",
    "print(rgbhsv[:5])\n",
    "print(tone[:5])\n",
    "print(toneType)\n",
    "print(y[:5])"
   ]
  },
  {
   "cell_type": "code",
   "execution_count": null,
   "id": "873f1f54",
   "metadata": {},
   "outputs": [],
   "source": []
  },
  {
   "cell_type": "markdown",
   "id": "4467b336",
   "metadata": {},
   "source": [
    "# Data Splitting"
   ]
  },
  {
   "cell_type": "code",
   "execution_count": 13,
   "id": "1b069869",
   "metadata": {},
   "outputs": [],
   "source": [
    "def _adjustTTVSize(train_size, test_size, validate_size):\n",
    "    s = max(train_size,0) + max(test_size,0) + max(validate_size,0)\n",
    "    if s == 0:\n",
    "        return 0.8, 0.2, 0\n",
    "    \n",
    "    if s > 1:\n",
    "        train_size = train_size / s\n",
    "        test_size = test_size / s\n",
    "        validate_size = validate_size / s\n",
    "        s = 1\n",
    "    \n",
    "    if train_size >= 0 and test_size >= 0 and validate_size >= 0:\n",
    "        return train_size, test_size, validate_size\n",
    "    \n",
    "    if train_size >= 0 and test_size < 0 and validate_size < 0:\n",
    "        return train_size, 1-train_size, 0\n",
    "    \n",
    "    if train_size < 0 and test_size >= 0 and validate_size < 0:\n",
    "        return 1-test_size, test_size, 0\n",
    "    \n",
    "    if train_size < 0 and test_size < 0 and validate_size > 0:\n",
    "        return (1-validate_size)*0.8, (1-validate_size)*0.2, validate_size\n",
    "    \n",
    "    if train_size < 0: train_size = 1-s\n",
    "    if test_size < 0: test_size = 1-s\n",
    "    if validate_size < 0: validate_size = 1-s\n",
    "    \n",
    "    return train_size, test_size, validate_size"
   ]
  },
  {
   "cell_type": "code",
   "execution_count": 14,
   "id": "72c8e611",
   "metadata": {},
   "outputs": [],
   "source": [
    "'''\n",
    "*** parameters ***\n",
    "data : [data_list1, ...]\n",
    "train_size, test_size, validate_size : 0~1, sum=1 / default=0.8,0.2,0\n",
    "\n",
    "*** returns ***\n",
    "split : [[train_data_list1, test_data_list1, validate_data_list1], ...]\n",
    "'''\n",
    "def dataSplitting(data, train_size=-1, test_size=-1, validate_size=-1):\n",
    "    [train_size, test_size, validate_size] = _adjustTTVSize(train_size, test_size, validate_size)\n",
    "    \n",
    "    n = len(data[0])\n",
    "    randomOrder = list(range(n))\n",
    "    random.shuffle(randomOrder)\n",
    "    \n",
    "    split = []\n",
    "    for d in data:\n",
    "        train = []\n",
    "        test = []\n",
    "        validate = []\n",
    "        \n",
    "        for i in range(n):\n",
    "            if i < train_size*n:\n",
    "                train.append(d[randomOrder[i]])\n",
    "            elif i < (train_size + test_size)*n:\n",
    "                test.append(d[randomOrder[i]])\n",
    "            else:\n",
    "                validate.append(d[randomOrder[i]])\n",
    "        \n",
    "        split.append([np.array(train), np.array(test), np.array(validate)])\n",
    "    \n",
    "    return split"
   ]
  },
  {
   "cell_type": "code",
   "execution_count": 30,
   "id": "1b6729ac",
   "metadata": {},
   "outputs": [],
   "source": [
    "[[rgb_train, rgb_test, rgb_validate],\n",
    " [hsv_train, hsv_test, hsv_validate],\n",
    " [rgbhsv_train, rgbhsv_test, rgbhsv_validate],\n",
    "  [y_train, y_test, y_validate]] = dataSplitting([rgb, hsv, rgbhsv, y], 0.6, 0.2, 0.2)"
   ]
  },
  {
   "cell_type": "code",
   "execution_count": 31,
   "id": "e986cd38",
   "metadata": {},
   "outputs": [
    {
     "name": "stdout",
     "output_type": "stream",
     "text": [
      "[[160  47  27]\n",
      " [208 115 128]\n",
      " [169  72 105]\n",
      " [ 45  77  43]\n",
      " [235 170 193]] [8 4 9 0 3]\n",
      "[[193 156 181]\n",
      " [111  33  63]\n",
      " [108  27  90]\n",
      " [249  71 127]\n",
      " [181 170 161]] [10  0  0  6 10]\n",
      "[[159  52  27]\n",
      " [216   0 193]\n",
      " [  0 110  85]\n",
      " [ 38   0 119]\n",
      " [235   0 125]] [8 5 8 8 5]\n"
     ]
    }
   ],
   "source": [
    "print(rgb_train[:5], y_train[:5])\n",
    "print(rgb_test[:5], y_test[:5])\n",
    "print(rgb_validate[:5], y_validate[:5])"
   ]
  },
  {
   "cell_type": "code",
   "execution_count": null,
   "id": "48a793bd",
   "metadata": {},
   "outputs": [],
   "source": []
  },
  {
   "cell_type": "markdown",
   "id": "ca08a65e",
   "metadata": {},
   "source": [
    "# Learn"
   ]
  },
  {
   "cell_type": "code",
   "execution_count": 22,
   "id": "c19aee3d",
   "metadata": {},
   "outputs": [],
   "source": [
    "'''\n",
    "*** parameters ***\n",
    "verbose\n",
    "- 0 : silent\n",
    "- 1 : progress bar,\n",
    "- 2 : one line per epoch\n",
    "'''\n",
    "def modelLearning(X, y, epochs=20, input_size=3, verbose=0):\n",
    "\n",
    "    model = keras.Sequential([\n",
    "        keras.layers.Dense(1024, activation='gelu', input_shape=[input_size]),\n",
    "        keras.layers.Dense(1024, activation='gelu'),\n",
    "        keras.layers.Dense(13, activation='softmax')\n",
    "    ])\n",
    "\n",
    "    model.compile(optimizer='adam',\n",
    "                 loss = 'sparse_categorical_crossentropy',\n",
    "                 metrics = ['accuracy'])\n",
    "\n",
    "    hist = model.fit(X, y, epochs=epochs, verbose=verbose)\n",
    "    \n",
    "    return model"
   ]
  },
  {
   "cell_type": "code",
   "execution_count": 7,
   "id": "87c075f8",
   "metadata": {},
   "outputs": [],
   "source": [
    "# model = modelLearning(rgb_train, y_train, 20, 3, 1)"
   ]
  },
  {
   "cell_type": "code",
   "execution_count": 36,
   "id": "04425066",
   "metadata": {},
   "outputs": [],
   "source": [
    "rgb_model = modelLearning(rgb_train, y_train, epochs=50, input_size=3, verbose=0)\n",
    "hsv_model = modelLearning(hsv_train, y_train, epochs=50, input_size=3, verbose=0)\n",
    "rgbhsv_model = modelLearning(rgbhsv_train, y_train, epochs=50, input_size=6, verbose=0)"
   ]
  },
  {
   "cell_type": "code",
   "execution_count": null,
   "id": "e9c301e5",
   "metadata": {},
   "outputs": [],
   "source": []
  },
  {
   "cell_type": "markdown",
   "id": "e6ff7c84",
   "metadata": {},
   "source": [
    "# Validation"
   ]
  },
  {
   "cell_type": "code",
   "execution_count": 16,
   "id": "7a26f288",
   "metadata": {},
   "outputs": [],
   "source": [
    "'''\n",
    "*** returns ***\n",
    "results : [loss, acc]\n",
    "'''\n",
    "def modelValidation(model, X, y):\n",
    "    results = model.evaluate(X, y)\n",
    "    print(\"loss, acc:\", results)\n",
    "    \n",
    "    return results"
   ]
  },
  {
   "cell_type": "code",
   "execution_count": 81,
   "id": "7c52fbcb",
   "metadata": {},
   "outputs": [
    {
     "name": "stdout",
     "output_type": "stream",
     "text": [
      "9/9 [==============================] - 0s 2ms/step - loss: 0.0997 - accuracy: 0.9722\n",
      "loss, acc: [0.0997205525636673, 0.9722222089767456]\n",
      "9/9 [==============================] - 0s 2ms/step - loss: 0.0947 - accuracy: 0.9444\n",
      "loss, acc: [0.09466405212879181, 0.9444444179534912]\n",
      "9/9 [==============================] - 0s 2ms/step - loss: 0.4427 - accuracy: 0.8785\n",
      "loss, acc: [0.4427071511745453, 0.8784722089767456]\n"
     ]
    }
   ],
   "source": [
    "rgb_lossacc = modelValidation(rgb_model, rgb_validate, y_validate)\n",
    "hsv_lossacc = modelValidation(hsv_model, hsv_validate, y_validate)\n",
    "rgbhsv_lossacc = modelValidation(rgbhsv_model, rgbhsv_validate, y_validate)"
   ]
  },
  {
   "cell_type": "code",
   "execution_count": null,
   "id": "cd8f1f2a",
   "metadata": {},
   "outputs": [],
   "source": []
  },
  {
   "cell_type": "markdown",
   "id": "078ed878",
   "metadata": {},
   "source": [
    "# Prediction"
   ]
  },
  {
   "cell_type": "code",
   "execution_count": 17,
   "id": "b3eee076",
   "metadata": {},
   "outputs": [],
   "source": [
    "'''\n",
    "*** parameter ***\n",
    "col : [[color info1], ...]\n",
    "    color info : [r,g,b] or [h,s,v] or [r,g,b,h,s,v]\n",
    "\n",
    "*** returns ***\n",
    "results : [prediction1, ...]\n",
    "    By adding toneType, you can obtain ton type predictions, or you can obtain numerical predictions\n",
    "'''\n",
    "def predictionColor(model, col, toneType=None):\n",
    "    predictions = model.predict(col)\n",
    "    \n",
    "    if toneType is None:\n",
    "        results = [np.argmax(prediction) for prediction in predictions]\n",
    "    else:\n",
    "        results = [toneType[np.argmax(prediction)] for prediction in predictions]\n",
    "    \n",
    "    return results"
   ]
  },
  {
   "cell_type": "code",
   "execution_count": 18,
   "id": "9bda2d36",
   "metadata": {},
   "outputs": [],
   "source": [
    "def predictionPlus(rgb_model, hsv_model, rgbhsv_model, rgb=None, hsv=None, rgbhsv=None, toneType=None, p_rgb=1, p_hsv=1, p_rgbhsv=1):\n",
    "    if rgb is None:\n",
    "        rgb = np.array([c[:3] for c in rgbhsv])\n",
    "    if hsv is None:\n",
    "        hsv = np.array([c[3:] for c in rgbhsv])\n",
    "    if rgbhsv is None:\n",
    "        rgbhsv = np.array([np.concatenate((rgb[i],hsv[i])) for i in range(len(rgb))])\n",
    "    \n",
    "    rgb_predictions = rgb_model.predict(rgb)\n",
    "    hsv_predictions = hsv_model.predict(hsv)\n",
    "    rgbhsv_predictions = rgbhsv_model.predict(rgbhsv)\n",
    "    \n",
    "    predictions = [rgb_predictions[i]*p_rgb + hsv_predictions[i]*p_hsv + rgbhsv_predictions[i]*p_rgbhsv for i in range(len(rgb))]\n",
    "    \n",
    "    if toneType is None:\n",
    "        results = [np.argmax(prediction) for prediction in predictions]\n",
    "    else:\n",
    "        results = [toneType[np.argmax(prediction)] for prediction in predictions]\n",
    "        \n",
    "    return results"
   ]
  },
  {
   "cell_type": "code",
   "execution_count": 94,
   "id": "398a68e3",
   "metadata": {},
   "outputs": [
    {
     "name": "stdout",
     "output_type": "stream",
     "text": [
      "[1, 7, 2, 0, 1, 10, 3, 3, 0, 5, 9, 1, 2, 8, 7, 3, 5, 6, 8, 5]\n",
      "[1, 7, 2, 0, 1, 10, 3, 3, 0, 5, 9, 1, 2, 8, 7, 3, 5, 6, 8, 11]\n",
      "[1, 0, 4, 0, 1, 10, 10, 10, 0, 5, 9, 1, 2, 8, 7, 3, 11, 6, 8, 11]\n",
      "[1, 7, 2, 0, 1, 10, 3, 3, 0, 5, 9, 1, 2, 8, 7, 3, 5, 6, 8, 5]\n",
      "[ 1  7  2  0  1 10  3  3  0  5  9  1  2  8  7  3 11  6  8  5]\n"
     ]
    }
   ],
   "source": [
    "rgb_predictions = predictionColor(rgb_model, rgb_test)\n",
    "hsv_predictions = predictionColor(hsv_model, hsv_test)\n",
    "rgbhsv_predictions = predictionColor(rgbhsv_model, rgbhsv_test)\n",
    "plus_predictions = predictionPlus(rgb_model, hsv_model, rgbhsv_model, rgb=rgb_test, hsv=hsv_test, p_rgb=rgb_lossacc[1], p_hsv=hsv_lossacc[1], p_rgbhsv=rgbhsv_lossacc[1])\n",
    "print(rgb_predictions[:20])\n",
    "print(hsv_predictions[:20])\n",
    "print(rgbhsv_predictions[:20])\n",
    "print(plus_predictions[:20])\n",
    "print(y_test[:20])"
   ]
  },
  {
   "cell_type": "code",
   "execution_count": null,
   "id": "d5c2e7c4",
   "metadata": {},
   "outputs": [],
   "source": []
  },
  {
   "cell_type": "markdown",
   "id": "02406cd0",
   "metadata": {},
   "source": [
    "# Compare Results"
   ]
  },
  {
   "cell_type": "code",
   "execution_count": 19,
   "id": "82d8750b",
   "metadata": {},
   "outputs": [],
   "source": [
    "def compareResults(x, y):\n",
    "    N = len(x)\n",
    "    correct = 0\n",
    "    wrong = 0\n",
    "    \n",
    "    for i in range(N):\n",
    "        if x[i] == y[i]:\n",
    "            correct = correct+1\n",
    "        else:\n",
    "            wrong = wrong+1\n",
    "    \n",
    "    return correct, wrong, correct/N"
   ]
  },
  {
   "cell_type": "code",
   "execution_count": 83,
   "id": "ad98e6b4",
   "metadata": {},
   "outputs": [],
   "source": [
    "rgb_cmp_results = compareResults(rgb_predictions, y_test)\n",
    "hsv_cmp_results = compareResults(hsv_predictions, y_test)\n",
    "rgbhsv_cmp_results = compareResults(rgbhsv_predictions, y_test)\n",
    "plus_cmp_results = compareResults(plus_predictions, y_test)"
   ]
  },
  {
   "cell_type": "code",
   "execution_count": 85,
   "id": "2d8402ef",
   "metadata": {},
   "outputs": [
    {
     "name": "stdout",
     "output_type": "stream",
     "text": [
      "RGB: 0.9548611111111112\n",
      "HSV: 0.9305555555555556\n",
      "RGBHSV: 0.8715277777777778\n",
      "Plus: 0.9513888888888888\n"
     ]
    }
   ],
   "source": [
    "print(\"RGB:\", rgb_cmp_results[2])\n",
    "print(\"HSV:\", hsv_cmp_results[2])\n",
    "print(\"RGBHSV:\", rgbhsv_cmp_results[2])\n",
    "print(\"Plus:\", plus_cmp_results[2])"
   ]
  },
  {
   "cell_type": "code",
   "execution_count": null,
   "id": "aaf885c3",
   "metadata": {},
   "outputs": [],
   "source": []
  },
  {
   "cell_type": "markdown",
   "id": "5ab0abd3",
   "metadata": {},
   "source": [
    "# Save Model"
   ]
  },
  {
   "cell_type": "code",
   "execution_count": 20,
   "id": "7dc33101",
   "metadata": {},
   "outputs": [],
   "source": [
    "def saveModel(model, modelName, path='../model/'):\n",
    "    model_path = path + modelName + '.h5'\n",
    "    tflite_path = path + modelName + '.tflite'\n",
    "\n",
    "    # save model\n",
    "    model.save(model_path)\n",
    "    \n",
    "    # convert model to tflite\n",
    "    converter = tf.lite.TFLiteConverter.from_keras_model(model)\n",
    "    #converter = tf.lite.TFLiteConverter.from_keras_model_file(model_path)\n",
    "    #converter = tf.compat.v1.lite.TFLiteConverter.from_keras_model_file(model_path)\n",
    "    converter.target_spec.supported_ops = [\n",
    "      tf.lite.OpsSet.TFLITE_BUILTINS, # enable TensorFlow Lite ops.\n",
    "      tf.lite.OpsSet.SELECT_TF_OPS # enable TensorFlow ops.\n",
    "    ]\n",
    "    tflite_model = converter.convert()\n",
    "\n",
    "    with open(tflite_path, 'wb') as f:\n",
    "        f.write(tflite_model) "
   ]
  },
  {
   "cell_type": "code",
   "execution_count": 29,
   "id": "eb1496e5",
   "metadata": {},
   "outputs": [
    {
     "name": "stdout",
     "output_type": "stream",
     "text": [
      "INFO:tensorflow:Assets written to: C:\\Users\\SAMSUNG\\AppData\\Local\\Temp\\tmpnwgcx4l8\\assets\n"
     ]
    },
    {
     "name": "stderr",
     "output_type": "stream",
     "text": [
      "INFO:tensorflow:Assets written to: C:\\Users\\SAMSUNG\\AppData\\Local\\Temp\\tmpnwgcx4l8\\assets\n"
     ]
    },
    {
     "name": "stdout",
     "output_type": "stream",
     "text": [
      "INFO:tensorflow:Assets written to: C:\\Users\\SAMSUNG\\AppData\\Local\\Temp\\tmp1uxk7kcf\\assets\n"
     ]
    },
    {
     "name": "stderr",
     "output_type": "stream",
     "text": [
      "INFO:tensorflow:Assets written to: C:\\Users\\SAMSUNG\\AppData\\Local\\Temp\\tmp1uxk7kcf\\assets\n"
     ]
    },
    {
     "name": "stdout",
     "output_type": "stream",
     "text": [
      "INFO:tensorflow:Assets written to: C:\\Users\\SAMSUNG\\AppData\\Local\\Temp\\tmpiddbcepv\\assets\n"
     ]
    },
    {
     "name": "stderr",
     "output_type": "stream",
     "text": [
      "INFO:tensorflow:Assets written to: C:\\Users\\SAMSUNG\\AppData\\Local\\Temp\\tmpiddbcepv\\assets\n"
     ]
    }
   ],
   "source": [
    "saveModel(rgb_model, 'rgb')\n",
    "saveModel(hsv_model, 'hsv')\n",
    "saveModel(rgbhsv_model, 'rgbhsv')"
   ]
  },
  {
   "cell_type": "code",
   "execution_count": null,
   "id": "10856ee1",
   "metadata": {},
   "outputs": [],
   "source": []
  },
  {
   "cell_type": "code",
   "execution_count": null,
   "id": "d3514717",
   "metadata": {},
   "outputs": [],
   "source": [
    "model = tf.keras.models.load_model(\"Path\")\n",
    "converter = tf.lite.TFLiteConverter.from_keras_model(model)"
   ]
  },
  {
   "cell_type": "code",
   "execution_count": null,
   "id": "217b9e56",
   "metadata": {},
   "outputs": [],
   "source": []
  },
  {
   "cell_type": "code",
   "execution_count": null,
   "id": "ad2c721f",
   "metadata": {},
   "outputs": [],
   "source": [
    "\n"
   ]
  },
  {
   "cell_type": "markdown",
   "id": "8e333c36",
   "metadata": {},
   "source": [
    "# Final"
   ]
  },
  {
   "cell_type": "code",
   "execution_count": 23,
   "id": "25ef94a8",
   "metadata": {},
   "outputs": [
    {
     "name": "stdout",
     "output_type": "stream",
     "text": [
      "Complete to load data!\n",
      "\n",
      "Complete data cleaning!\n",
      "\n",
      "Complete data Splitting!\n",
      "\n",
      "***** Learn *****\n",
      "Complete RGB\n",
      "Complete HSV\n",
      "Complete RGB & HSV\n",
      "\n",
      "***** Measure loss and accuracy *****\n",
      "RGB\n",
      "32/32 [==============================] - 0s 2ms/step - loss: 0.0620 - accuracy: 0.9804\n",
      "loss, acc: [0.062039125710725784, 0.9803729057312012]\n",
      "HSV\n",
      "32/32 [==============================] - 0s 2ms/step - loss: 0.1284 - accuracy: 0.9509\n",
      "loss, acc: [0.12836582958698273, 0.9509322643280029]\n",
      "RGB & HSV\n",
      "32/32 [==============================] - 0s 2ms/step - loss: 0.1277 - accuracy: 0.9450\n",
      "loss, acc: [0.12765571475028992, 0.9450441598892212]\n",
      "\n",
      "***** Validation *****\n",
      "RGB\n",
      "11/11 [==============================] - 0s 2ms/step - loss: 0.0851 - accuracy: 0.9646\n",
      "loss, acc: [0.08509667962789536, 0.9646017551422119]\n",
      "HSV\n",
      "11/11 [==============================] - 0s 2ms/step - loss: 0.1274 - accuracy: 0.9587\n",
      "loss, acc: [0.12744124233722687, 0.9587020874023438]\n",
      "RGB & HSV\n",
      "11/11 [==============================] - 0s 2ms/step - loss: 0.2030 - accuracy: 0.9174\n",
      "loss, acc: [0.20301465690135956, 0.9174041152000427]\n",
      "\n",
      "***** Predict(validation data) *****\n",
      "RGB: [9, 9, 2, 4, 12, 9, 7, 0, 7, 0, 5, 3, 7, 8, 1, 3, 6, 11, 4, 1]\n",
      "HSV: [9, 9, 0, 4, 12, 9, 7, 0, 7, 0, 5, 3, 7, 8, 1, 3, 6, 11, 4, 1]\n",
      "RGB&HSV: [8, 9, 2, 5, 12, 9, 7, 2, 7, 2, 5, 3, 7, 8, 1, 3, 6, 11, 4, 1]\n",
      "Plus: [9, 9, 0, 4, 12, 9, 7, 0, 7, 0, 5, 3, 7, 8, 1, 3, 6, 11, 4, 1]\n",
      "y: [ 9  9  0  4 12  9  7  2  7  0  5  3  7  8  1  3  6 11  4  1]\n",
      "\n",
      "***** Compare Results *****\n",
      "RGB: 0.9557522123893806\n",
      "HSV: 0.9321533923303835\n",
      "RGBHSV: 0.911504424778761\n",
      "Plus: 0.9528023598820059\n",
      "\n",
      "***** Save Models *****\n",
      "INFO:tensorflow:Assets written to: C:\\Users\\SAMSUNG\\AppData\\Local\\Temp\\tmpzocj03wv\\assets\n",
      "Complete RGB\n",
      "INFO:tensorflow:Assets written to: C:\\Users\\SAMSUNG\\AppData\\Local\\Temp\\tmpw9t2yjdq\\assets\n"
     ]
    },
    {
     "name": "stderr",
     "output_type": "stream",
     "text": [
      "INFO:tensorflow:Assets written to: C:\\Users\\SAMSUNG\\AppData\\Local\\Temp\\tmpw9t2yjdq\\assets\n"
     ]
    },
    {
     "name": "stdout",
     "output_type": "stream",
     "text": [
      "Complete HSV\n",
      "INFO:tensorflow:Assets written to: C:\\Users\\SAMSUNG\\AppData\\Local\\Temp\\tmp5bh5gl59\\assets\n"
     ]
    },
    {
     "name": "stderr",
     "output_type": "stream",
     "text": [
      "INFO:tensorflow:Assets written to: C:\\Users\\SAMSUNG\\AppData\\Local\\Temp\\tmp5bh5gl59\\assets\n"
     ]
    },
    {
     "name": "stdout",
     "output_type": "stream",
     "text": [
      "Complete RGB & HSV\n"
     ]
    }
   ],
   "source": [
    "# Load Data\n",
    "xlsx = loadData('pccstorgb.xlsx')\n",
    "print(\"Complete to load data!\\n\")\n",
    "\n",
    "# Data Cleaning\n",
    "[rgb, hsv, rgbhsv, tone, toneType, y] = dataCleaning(xlsx)\n",
    "print(\"Complete data cleaning!\\n\")\n",
    "\n",
    "#Data Splitting\n",
    "[[rgb_train, rgb_test, rgb_validate],\n",
    " [hsv_train, hsv_test, hsv_validate],\n",
    " [rgbhsv_train, rgbhsv_test, rgbhsv_validate],\n",
    "  [y_train, y_test, y_validate]] = dataSplitting([rgb, hsv, rgbhsv, y], 0.6, 0.2, 0.2)\n",
    "print(\"Complete data Splitting!\\n\")\n",
    "\n",
    "# Learn\n",
    "print(\"***** Learn *****\")\n",
    "rgb_model = modelLearning(rgb_train, y_train, epochs=50, input_size=3, verbose=0)\n",
    "print(\"Complete RGB\")\n",
    "hsv_model = modelLearning(hsv_train, y_train, epochs=50, input_size=3, verbose=0)\n",
    "print(\"Complete HSV\")\n",
    "rgbhsv_model = modelLearning(rgbhsv_train, y_train, epochs=50, input_size=6, verbose=0)\n",
    "print(\"Complete RGB & HSV\\n\")\n",
    "# Measure loss, accuracy\n",
    "print(\"***** Measure loss and accuracy *****\")\n",
    "print(\"RGB\")\n",
    "rgb_lossacc = modelValidation(rgb_model, rgb_train, y_train)\n",
    "print(\"HSV\")\n",
    "hsv_lossacc = modelValidation(hsv_model, hsv_train, y_train)\n",
    "print(\"RGB & HSV\")\n",
    "rgbhsv_lossacc = modelValidation(rgbhsv_model, rgbhsv_train, y_train)\n",
    "print()\n",
    "\n",
    "# Validation\n",
    "print(\"***** Validation *****\")\n",
    "print(\"RGB\")\n",
    "rgb_results = modelValidation(rgb_model, rgb_validate, y_validate)\n",
    "print(\"HSV\")\n",
    "hsv_results = modelValidation(hsv_model, hsv_validate, y_validate)\n",
    "print(\"RGB & HSV\")\n",
    "rgbhsv_results = modelValidation(rgbhsv_model, rgbhsv_validate, y_validate)\n",
    "print()\n",
    "\n",
    "# Prediction(validation data)\n",
    "print(\"***** Predict(validation data) *****\")\n",
    "rgb_predictions = predictionColor(rgb_model, rgb_test)\n",
    "hsv_predictions = predictionColor(hsv_model, hsv_test)\n",
    "rgbhsv_predictions = predictionColor(rgbhsv_model, rgbhsv_test)\n",
    "plus_predictions = predictionPlus(rgb_model, hsv_model, rgbhsv_model, rgb=rgb_test, hsv=hsv_test, p_rgb=rgb_lossacc[1], p_hsv=hsv_lossacc[1], p_rgbhsv=rgbhsv_lossacc[1])\n",
    "print(\"RGB:\", rgb_predictions[:20])\n",
    "print(\"HSV:\", hsv_predictions[:20])\n",
    "print(\"RGB&HSV:\", rgbhsv_predictions[:20])\n",
    "print(\"Plus:\", plus_predictions[:20])\n",
    "print(\"y:\", y_test[:20])\n",
    "print()\n",
    "\n",
    "# Compare Results\n",
    "print(\"***** Compare Results *****\")\n",
    "rgb_cmp_results = compareResults(rgb_predictions, y_test)\n",
    "hsv_cmp_results = compareResults(hsv_predictions, y_test)\n",
    "rgbhsv_cmp_results = compareResults(rgbhsv_predictions, y_test)\n",
    "plus_cmp_results = compareResults(plus_predictions, y_test)\n",
    "print(\"RGB:\", rgb_cmp_results[2])\n",
    "print(\"HSV:\", hsv_cmp_results[2])\n",
    "print(\"RGBHSV:\", rgbhsv_cmp_results[2])\n",
    "print(\"Plus:\", plus_cmp_results[2])\n",
    "print()\n",
    "\n",
    "# Save Model\n",
    "print(\"***** Save Models *****\")\n",
    "saveModel(rgb_model, 'rgb')\n",
    "print(\"Complete RGB\")\n",
    "saveModel(hsv_model, 'hsv')\n",
    "print(\"Complete HSV\")\n",
    "saveModel(rgbhsv_model, 'rgbhsv')\n",
    "print(\"Complete RGB & HSV\")"
   ]
  },
  {
   "cell_type": "code",
   "execution_count": null,
   "id": "00ada1e9",
   "metadata": {},
   "outputs": [],
   "source": []
  },
  {
   "cell_type": "code",
   "execution_count": 32,
   "id": "0fd7ce04",
   "metadata": {},
   "outputs": [
    {
     "name": "stdout",
     "output_type": "stream",
     "text": [
      "['Vivid' 'bright' 'strong' 'deep' 'Light' 'Soft' 'dull' 'Dark' 'Pale'\n",
      " 'light_grayish' 'Grayish' 'dark_grayish']\n"
     ]
    }
   ],
   "source": [
    "print(toneType)"
   ]
  },
  {
   "cell_type": "code",
   "execution_count": null,
   "id": "65b0d416",
   "metadata": {},
   "outputs": [],
   "source": []
  },
  {
   "cell_type": "code",
   "execution_count": null,
   "id": "dde8cbea",
   "metadata": {},
   "outputs": [],
   "source": []
  },
  {
   "cell_type": "code",
   "execution_count": 24,
   "id": "39f7deb1",
   "metadata": {},
   "outputs": [],
   "source": [
    "all_color = []\n",
    "\n",
    "for r in range(256):\n",
    "    for g in range(256):\n",
    "        for b in range(256):\n",
    "            all_color.append([r,g,b])"
   ]
  },
  {
   "cell_type": "code",
   "execution_count": 25,
   "id": "1b98bed7",
   "metadata": {},
   "outputs": [],
   "source": [
    "all_predictions = predictionColor(rgb_model, all_color)"
   ]
  },
  {
   "cell_type": "code",
   "execution_count": 26,
   "id": "516a392a",
   "metadata": {},
   "outputs": [],
   "source": [
    "achromatic_color = []\n",
    "for i in range(len(all_predictions)):\n",
    "    if all_predictions[i] == 12:\n",
    "        achromatic_color.append(all_color[i])"
   ]
  },
  {
   "cell_type": "code",
   "execution_count": 30,
   "id": "5ca90c60",
   "metadata": {},
   "outputs": [
    {
     "name": "stdout",
     "output_type": "stream",
     "text": [
      "219293\n",
      "[[0, 0, 0], [0, 0, 1], [0, 0, 2], [0, 0, 3], [0, 0, 4], [0, 0, 5], [0, 0, 6], [0, 0, 7], [0, 0, 8], [0, 0, 9], [0, 0, 10], [0, 0, 11], [0, 0, 12], [0, 0, 13], [0, 0, 14], [0, 1, 0], [0, 1, 1], [0, 1, 2], [0, 1, 3], [0, 1, 4]]\n"
     ]
    }
   ],
   "source": [
    "print(len(achromatic_color))\n",
    "print(achromatic_color[:20])"
   ]
  },
  {
   "cell_type": "code",
   "execution_count": 55,
   "id": "d95c4800",
   "metadata": {},
   "outputs": [
    {
     "data": {
      "image/png": "[encoded data removed]",
      "text/plain": [
       "<Figure size 432x288 with 1 Axes>"
      ]
     },
     "metadata": {
      "needs_background": "light"
     },
     "output_type": "display_data"
    }
   ],
   "source": [
    "one_px = np.array(achromatic_color[:219024])[np.newaxis, :, :]\n",
    "one_px = one_px.reshape(468,468,3)\n",
    "\n",
    "plt.imshow(np.array(one_px))\n",
    "plt.axis('off')\n",
    "plt.show()"
   ]
  },
  {
   "cell_type": "code",
   "execution_count": 52,
   "id": "e6ce8f31",
   "metadata": {},
   "outputs": [
    {
     "data": {
      "text/plain": [
       "array([[[0, 0, 0],\n",
       "        [0, 0, 1],\n",
       "        [0, 0, 2],\n",
       "        [0, 0, 3],\n",
       "        [0, 0, 4],\n",
       "        [0, 0, 5],\n",
       "        [0, 0, 6],\n",
       "        [0, 0, 7],\n",
       "        [0, 0, 8],\n",
       "        [0, 0, 9]]])"
      ]
     },
     "execution_count": 52,
     "metadata": {},
     "output_type": "execute_result"
    }
   ],
   "source": [
    "one_px"
   ]
  },
  {
   "cell_type": "code",
   "execution_count": 47,
   "id": "f5e250cf",
   "metadata": {},
   "outputs": [
    {
     "data": {
      "text/plain": [
       "array([[[0, 0, 0],\n",
       "        [0, 0, 1],\n",
       "        [0, 0, 2],\n",
       "        [0, 0, 3],\n",
       "        [0, 0, 4],\n",
       "        [0, 0, 5],\n",
       "        [0, 0, 6],\n",
       "        [0, 0, 7],\n",
       "        [0, 0, 8],\n",
       "        [0, 0, 9]]])"
      ]
     },
     "execution_count": 47,
     "metadata": {},
     "output_type": "execute_result"
    }
   ],
   "source": [
    "one_px"
   ]
  },
  {
   "cell_type": "code",
   "execution_count": 51,
   "id": "6690d43b",
   "metadata": {},
   "outputs": [
    {
     "data": {
      "text/plain": [
       "array([[[0, 0, 0],\n",
       "        [0, 0, 1],\n",
       "        [0, 0, 2],\n",
       "        [0, 0, 3],\n",
       "        [0, 0, 4]],\n",
       "\n",
       "       [[0, 0, 5],\n",
       "        [0, 0, 6],\n",
       "        [0, 0, 7],\n",
       "        [0, 0, 8],\n",
       "        [0, 0, 9]]])"
      ]
     },
     "execution_count": 51,
     "metadata": {},
     "output_type": "execute_result"
    }
   ],
   "source": [
    "one_px.reshape(2,5,3)"
   ]
  },
  {
   "cell_type": "code",
   "execution_count": null,
   "id": "d775ecfc",
   "metadata": {},
   "outputs": [],
   "source": []
  }
 ],
 "metadata": {
  "kernelspec": {
   "display_name": "Python 3",
   "language": "python",
   "name": "python3"
  },
  "language_info": {
   "codemirror_mode": {
    "name": "ipython",
    "version": 3
   },
   "file_extension": ".py",
   "mimetype": "text/x-python",
   "name": "python",
   "nbconvert_exporter": "python",
   "pygments_lexer": "ipython3",
   "version": "3.8.8"
  }
 },
 "nbformat": 4,
 "nbformat_minor": 5
}
